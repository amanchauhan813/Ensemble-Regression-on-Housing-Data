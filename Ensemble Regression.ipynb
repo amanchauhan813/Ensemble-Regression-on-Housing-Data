{
 "cells": [
  {
   "cell_type": "code",
   "execution_count": 1,
   "id": "efd9c9e3",
   "metadata": {},
   "outputs": [],
   "source": [
    "import pandas as pd\n",
    "import matplotlib.pyplot as plt\n",
    "from sklearn.model_selection import train_test_split\n",
    "from sklearn.linear_model import LinearRegression\n",
    "import seaborn as sns\n",
    "from sklearn.preprocessing import FunctionTransformer,PowerTransformer,OneHotEncoder\n",
    "from sklearn.impute import SimpleImputer\n",
    "from sklearn.model_selection import train_test_split"
   ]
  },
  {
   "cell_type": "code",
   "execution_count": 2,
   "id": "d956ff68",
   "metadata": {},
   "outputs": [],
   "source": [
    "from sklearn.preprocessing import StandardScaler"
   ]
  },
  {
   "cell_type": "code",
   "execution_count": 3,
   "id": "532af421",
   "metadata": {},
   "outputs": [],
   "source": [
    "data=pd.read_csv('housing.csv')"
   ]
  },
  {
   "cell_type": "code",
   "execution_count": 4,
   "id": "49f08d9b",
   "metadata": {},
   "outputs": [
    {
     "data": {
      "text/html": [
       "<div>\n",
       "<style scoped>\n",
       "    .dataframe tbody tr th:only-of-type {\n",
       "        vertical-align: middle;\n",
       "    }\n",
       "\n",
       "    .dataframe tbody tr th {\n",
       "        vertical-align: top;\n",
       "    }\n",
       "\n",
       "    .dataframe thead th {\n",
       "        text-align: right;\n",
       "    }\n",
       "</style>\n",
       "<table border=\"1\" class=\"dataframe\">\n",
       "  <thead>\n",
       "    <tr style=\"text-align: right;\">\n",
       "      <th></th>\n",
       "      <th>longitude</th>\n",
       "      <th>latitude</th>\n",
       "      <th>housing_median_age</th>\n",
       "      <th>total_rooms</th>\n",
       "      <th>total_bedrooms</th>\n",
       "      <th>population</th>\n",
       "      <th>households</th>\n",
       "      <th>median_income</th>\n",
       "      <th>median_house_value</th>\n",
       "      <th>ocean_proximity</th>\n",
       "    </tr>\n",
       "  </thead>\n",
       "  <tbody>\n",
       "    <tr>\n",
       "      <th>0</th>\n",
       "      <td>-122.23</td>\n",
       "      <td>37.88</td>\n",
       "      <td>41.0</td>\n",
       "      <td>880.0</td>\n",
       "      <td>129.0</td>\n",
       "      <td>322.0</td>\n",
       "      <td>126.0</td>\n",
       "      <td>8.3252</td>\n",
       "      <td>452600.0</td>\n",
       "      <td>NEAR BAY</td>\n",
       "    </tr>\n",
       "    <tr>\n",
       "      <th>1</th>\n",
       "      <td>-122.22</td>\n",
       "      <td>37.86</td>\n",
       "      <td>21.0</td>\n",
       "      <td>7099.0</td>\n",
       "      <td>1106.0</td>\n",
       "      <td>2401.0</td>\n",
       "      <td>1138.0</td>\n",
       "      <td>8.3014</td>\n",
       "      <td>358500.0</td>\n",
       "      <td>NEAR BAY</td>\n",
       "    </tr>\n",
       "    <tr>\n",
       "      <th>2</th>\n",
       "      <td>-122.24</td>\n",
       "      <td>37.85</td>\n",
       "      <td>52.0</td>\n",
       "      <td>1467.0</td>\n",
       "      <td>190.0</td>\n",
       "      <td>496.0</td>\n",
       "      <td>177.0</td>\n",
       "      <td>7.2574</td>\n",
       "      <td>352100.0</td>\n",
       "      <td>NEAR BAY</td>\n",
       "    </tr>\n",
       "    <tr>\n",
       "      <th>3</th>\n",
       "      <td>-122.25</td>\n",
       "      <td>37.85</td>\n",
       "      <td>52.0</td>\n",
       "      <td>1274.0</td>\n",
       "      <td>235.0</td>\n",
       "      <td>558.0</td>\n",
       "      <td>219.0</td>\n",
       "      <td>5.6431</td>\n",
       "      <td>341300.0</td>\n",
       "      <td>NEAR BAY</td>\n",
       "    </tr>\n",
       "    <tr>\n",
       "      <th>4</th>\n",
       "      <td>-122.25</td>\n",
       "      <td>37.85</td>\n",
       "      <td>52.0</td>\n",
       "      <td>1627.0</td>\n",
       "      <td>280.0</td>\n",
       "      <td>565.0</td>\n",
       "      <td>259.0</td>\n",
       "      <td>3.8462</td>\n",
       "      <td>342200.0</td>\n",
       "      <td>NEAR BAY</td>\n",
       "    </tr>\n",
       "  </tbody>\n",
       "</table>\n",
       "</div>"
      ],
      "text/plain": [
       "   longitude  latitude  housing_median_age  total_rooms  total_bedrooms  \\\n",
       "0    -122.23     37.88                41.0        880.0           129.0   \n",
       "1    -122.22     37.86                21.0       7099.0          1106.0   \n",
       "2    -122.24     37.85                52.0       1467.0           190.0   \n",
       "3    -122.25     37.85                52.0       1274.0           235.0   \n",
       "4    -122.25     37.85                52.0       1627.0           280.0   \n",
       "\n",
       "   population  households  median_income  median_house_value ocean_proximity  \n",
       "0       322.0       126.0         8.3252            452600.0        NEAR BAY  \n",
       "1      2401.0      1138.0         8.3014            358500.0        NEAR BAY  \n",
       "2       496.0       177.0         7.2574            352100.0        NEAR BAY  \n",
       "3       558.0       219.0         5.6431            341300.0        NEAR BAY  \n",
       "4       565.0       259.0         3.8462            342200.0        NEAR BAY  "
      ]
     },
     "execution_count": 4,
     "metadata": {},
     "output_type": "execute_result"
    }
   ],
   "source": [
    "data.head()"
   ]
  },
  {
   "cell_type": "code",
   "execution_count": 5,
   "id": "8a7e450d",
   "metadata": {},
   "outputs": [
    {
     "data": {
      "text/plain": [
       "(20640, 10)"
      ]
     },
     "execution_count": 5,
     "metadata": {},
     "output_type": "execute_result"
    }
   ],
   "source": [
    "data.shape"
   ]
  },
  {
   "cell_type": "code",
   "execution_count": 6,
   "id": "719a1ce0",
   "metadata": {},
   "outputs": [
    {
     "data": {
      "text/plain": [
       "array(['NEAR BAY', '<1H OCEAN', 'INLAND', 'NEAR OCEAN', 'ISLAND'],\n",
       "      dtype=object)"
      ]
     },
     "execution_count": 6,
     "metadata": {},
     "output_type": "execute_result"
    }
   ],
   "source": [
    "data.ocean_proximity.unique()"
   ]
  },
  {
   "cell_type": "code",
   "execution_count": 7,
   "id": "47d37f80",
   "metadata": {},
   "outputs": [
    {
     "name": "stdout",
     "output_type": "stream",
     "text": [
      "<class 'pandas.core.frame.DataFrame'>\n",
      "RangeIndex: 20640 entries, 0 to 20639\n",
      "Data columns (total 10 columns):\n",
      " #   Column              Non-Null Count  Dtype  \n",
      "---  ------              --------------  -----  \n",
      " 0   longitude           20640 non-null  float64\n",
      " 1   latitude            20640 non-null  float64\n",
      " 2   housing_median_age  20640 non-null  float64\n",
      " 3   total_rooms         20640 non-null  float64\n",
      " 4   total_bedrooms      20433 non-null  float64\n",
      " 5   population          20640 non-null  float64\n",
      " 6   households          20640 non-null  float64\n",
      " 7   median_income       20640 non-null  float64\n",
      " 8   median_house_value  20640 non-null  float64\n",
      " 9   ocean_proximity     20640 non-null  object \n",
      "dtypes: float64(9), object(1)\n",
      "memory usage: 1.6+ MB\n"
     ]
    }
   ],
   "source": [
    "data.info()"
   ]
  },
  {
   "cell_type": "code",
   "execution_count": 8,
   "id": "3d5c809c",
   "metadata": {},
   "outputs": [
    {
     "data": {
      "text/plain": [
       "longitude               0\n",
       "latitude                0\n",
       "housing_median_age      0\n",
       "total_rooms             0\n",
       "total_bedrooms        207\n",
       "population              0\n",
       "households              0\n",
       "median_income           0\n",
       "median_house_value      0\n",
       "ocean_proximity         0\n",
       "dtype: int64"
      ]
     },
     "execution_count": 8,
     "metadata": {},
     "output_type": "execute_result"
    }
   ],
   "source": [
    "data.isnull().sum()"
   ]
  },
  {
   "cell_type": "code",
   "execution_count": 9,
   "id": "363d29a3",
   "metadata": {},
   "outputs": [
    {
     "data": {
      "text/plain": [
       "array(['NEAR BAY', '<1H OCEAN', 'INLAND', 'NEAR OCEAN', 'ISLAND'],\n",
       "      dtype=object)"
      ]
     },
     "execution_count": 9,
     "metadata": {},
     "output_type": "execute_result"
    }
   ],
   "source": [
    "data.ocean_proximity.unique()"
   ]
  },
  {
   "cell_type": "code",
   "execution_count": 10,
   "id": "10a3092b",
   "metadata": {},
   "outputs": [],
   "source": [
    "data1=data.drop(['ocean_proximity'],axis=1)"
   ]
  },
  {
   "cell_type": "code",
   "execution_count": 11,
   "id": "5c967631",
   "metadata": {},
   "outputs": [
    {
     "data": {
      "text/plain": [
       "longitude            -0.045967\n",
       "latitude             -0.144160\n",
       "housing_median_age    0.105623\n",
       "total_rooms           0.134153\n",
       "total_bedrooms        0.049686\n",
       "population           -0.024650\n",
       "households            0.065843\n",
       "median_income         0.688075\n",
       "median_house_value    1.000000\n",
       "Name: median_house_value, dtype: float64"
      ]
     },
     "execution_count": 11,
     "metadata": {},
     "output_type": "execute_result"
    }
   ],
   "source": [
    "data1.corr()['median_house_value']"
   ]
  },
  {
   "cell_type": "code",
   "execution_count": 12,
   "id": "90801d87",
   "metadata": {},
   "outputs": [],
   "source": [
    "#sns.pairplot(data1)"
   ]
  },
  {
   "cell_type": "code",
   "execution_count": 13,
   "id": "2a6ee198",
   "metadata": {},
   "outputs": [
    {
     "data": {
      "text/html": [
       "<div>\n",
       "<style scoped>\n",
       "    .dataframe tbody tr th:only-of-type {\n",
       "        vertical-align: middle;\n",
       "    }\n",
       "\n",
       "    .dataframe tbody tr th {\n",
       "        vertical-align: top;\n",
       "    }\n",
       "\n",
       "    .dataframe thead th {\n",
       "        text-align: right;\n",
       "    }\n",
       "</style>\n",
       "<table border=\"1\" class=\"dataframe\">\n",
       "  <thead>\n",
       "    <tr style=\"text-align: right;\">\n",
       "      <th></th>\n",
       "      <th>longitude</th>\n",
       "      <th>latitude</th>\n",
       "      <th>housing_median_age</th>\n",
       "      <th>total_rooms</th>\n",
       "      <th>total_bedrooms</th>\n",
       "      <th>population</th>\n",
       "      <th>households</th>\n",
       "      <th>median_income</th>\n",
       "      <th>median_house_value</th>\n",
       "      <th>ocean_proximity</th>\n",
       "    </tr>\n",
       "  </thead>\n",
       "  <tbody>\n",
       "    <tr>\n",
       "      <th>7878</th>\n",
       "      <td>-118.11</td>\n",
       "      <td>33.88</td>\n",
       "      <td>19.0</td>\n",
       "      <td>3203.0</td>\n",
       "      <td>708.0</td>\n",
       "      <td>1761.0</td>\n",
       "      <td>667.0</td>\n",
       "      <td>4.0911</td>\n",
       "      <td>239700.0</td>\n",
       "      <td>&lt;1H OCEAN</td>\n",
       "    </tr>\n",
       "    <tr>\n",
       "      <th>15126</th>\n",
       "      <td>-116.84</td>\n",
       "      <td>32.86</td>\n",
       "      <td>16.0</td>\n",
       "      <td>2502.0</td>\n",
       "      <td>532.0</td>\n",
       "      <td>1211.0</td>\n",
       "      <td>494.0</td>\n",
       "      <td>3.2516</td>\n",
       "      <td>202100.0</td>\n",
       "      <td>&lt;1H OCEAN</td>\n",
       "    </tr>\n",
       "    <tr>\n",
       "      <th>1003</th>\n",
       "      <td>-121.78</td>\n",
       "      <td>37.69</td>\n",
       "      <td>35.0</td>\n",
       "      <td>2853.0</td>\n",
       "      <td>588.0</td>\n",
       "      <td>1761.0</td>\n",
       "      <td>572.0</td>\n",
       "      <td>4.3533</td>\n",
       "      <td>168400.0</td>\n",
       "      <td>INLAND</td>\n",
       "    </tr>\n",
       "    <tr>\n",
       "      <th>7397</th>\n",
       "      <td>-118.23</td>\n",
       "      <td>33.96</td>\n",
       "      <td>36.0</td>\n",
       "      <td>1062.0</td>\n",
       "      <td>270.0</td>\n",
       "      <td>1136.0</td>\n",
       "      <td>273.0</td>\n",
       "      <td>1.6597</td>\n",
       "      <td>109100.0</td>\n",
       "      <td>&lt;1H OCEAN</td>\n",
       "    </tr>\n",
       "    <tr>\n",
       "      <th>12207</th>\n",
       "      <td>-116.96</td>\n",
       "      <td>33.52</td>\n",
       "      <td>9.0</td>\n",
       "      <td>2802.0</td>\n",
       "      <td>471.0</td>\n",
       "      <td>1155.0</td>\n",
       "      <td>421.0</td>\n",
       "      <td>4.1250</td>\n",
       "      <td>392100.0</td>\n",
       "      <td>INLAND</td>\n",
       "    </tr>\n",
       "  </tbody>\n",
       "</table>\n",
       "</div>"
      ],
      "text/plain": [
       "       longitude  latitude  housing_median_age  total_rooms  total_bedrooms  \\\n",
       "7878     -118.11     33.88                19.0       3203.0           708.0   \n",
       "15126    -116.84     32.86                16.0       2502.0           532.0   \n",
       "1003     -121.78     37.69                35.0       2853.0           588.0   \n",
       "7397     -118.23     33.96                36.0       1062.0           270.0   \n",
       "12207    -116.96     33.52                 9.0       2802.0           471.0   \n",
       "\n",
       "       population  households  median_income  median_house_value  \\\n",
       "7878       1761.0       667.0         4.0911            239700.0   \n",
       "15126      1211.0       494.0         3.2516            202100.0   \n",
       "1003       1761.0       572.0         4.3533            168400.0   \n",
       "7397       1136.0       273.0         1.6597            109100.0   \n",
       "12207      1155.0       421.0         4.1250            392100.0   \n",
       "\n",
       "      ocean_proximity  \n",
       "7878        <1H OCEAN  \n",
       "15126       <1H OCEAN  \n",
       "1003           INLAND  \n",
       "7397        <1H OCEAN  \n",
       "12207          INLAND  "
      ]
     },
     "execution_count": 13,
     "metadata": {},
     "output_type": "execute_result"
    }
   ],
   "source": [
    "data.sample(5)"
   ]
  },
  {
   "cell_type": "code",
   "execution_count": 14,
   "id": "4f0c86d9",
   "metadata": {},
   "outputs": [],
   "source": [
    "x_train,x_test,y_train,y_test=train_test_split(data.drop(['median_house_value'],axis=1),data.median_house_value,test_size=.2,random_state=42)"
   ]
  },
  {
   "cell_type": "code",
   "execution_count": 15,
   "id": "aad18be6",
   "metadata": {},
   "outputs": [],
   "source": [
    "import numpy as np\n",
    "functiontran=FunctionTransformer(func=np.log1p)"
   ]
  },
  {
   "cell_type": "code",
   "execution_count": 16,
   "id": "8fd97518",
   "metadata": {},
   "outputs": [],
   "source": [
    "x=functiontran.fit_transform(x_train['median_income'])\n",
    "y=functiontran.transform(x_test['median_income'])"
   ]
  },
  {
   "cell_type": "code",
   "execution_count": 17,
   "id": "0e061b3d",
   "metadata": {},
   "outputs": [
    {
     "name": "stderr",
     "output_type": "stream",
     "text": [
      "C:\\Users\\amanc\\AppData\\Local\\Temp\\ipykernel_40100\\3994601939.py:4: UserWarning: \n",
      "\n",
      "`distplot` is a deprecated function and will be removed in seaborn v0.14.0.\n",
      "\n",
      "Please adapt your code to use either `displot` (a figure-level function with\n",
      "similar flexibility) or `histplot` (an axes-level function for histograms).\n",
      "\n",
      "For a guide to updating your code to use the new functions, please see\n",
      "https://gist.github.com/mwaskom/de44147ed2974457ad6372750bbe5751\n",
      "\n",
      "  sns.distplot(x_train['median_income'])\n"
     ]
    },
    {
     "data": {
      "text/plain": [
       "[]"
      ]
     },
     "execution_count": 17,
     "metadata": {},
     "output_type": "execute_result"
    },
    {
     "data": {
      "image/png": "[encoded data removed]",
      "text/plain": [
       "<Figure size 1400x400 with 2 Axes>"
      ]
     },
     "metadata": {},
     "output_type": "display_data"
    }
   ],
   "source": [
    "import scipy.stats as stats\n",
    "plt.figure(figsize=(14,4))\n",
    "plt.subplot(121)\n",
    "sns.distplot(x_train['median_income'])\n",
    "plt.title('Before Latitude PDF')\n",
    "\n",
    "plt.subplot(122)\n",
    "stats.probplot(x_train['median_income'],dist='norm',plot=plt)\n",
    "plt.title('Before Latitude QQ Plot')\n",
    "plt.plot()"
   ]
  },
  {
   "cell_type": "code",
   "execution_count": 18,
   "id": "a4867d69",
   "metadata": {},
   "outputs": [
    {
     "name": "stderr",
     "output_type": "stream",
     "text": [
      "C:\\Users\\amanc\\AppData\\Local\\Temp\\ipykernel_40100\\1230299467.py:4: UserWarning: \n",
      "\n",
      "`distplot` is a deprecated function and will be removed in seaborn v0.14.0.\n",
      "\n",
      "Please adapt your code to use either `displot` (a figure-level function with\n",
      "similar flexibility) or `histplot` (an axes-level function for histograms).\n",
      "\n",
      "For a guide to updating your code to use the new functions, please see\n",
      "https://gist.github.com/mwaskom/de44147ed2974457ad6372750bbe5751\n",
      "\n",
      "  sns.distplot(x)\n"
     ]
    },
    {
     "data": {
      "text/plain": [
       "[]"
      ]
     },
     "execution_count": 18,
     "metadata": {},
     "output_type": "execute_result"
    },
    {
     "data": {
      "image/png": "[encoded data removed]",
      "text/plain": [
       "<Figure size 1400x400 with 2 Axes>"
      ]
     },
     "metadata": {},
     "output_type": "display_data"
    }
   ],
   "source": [
    "import scipy.stats as stats\n",
    "plt.figure(figsize=(14,4))\n",
    "plt.subplot(121)\n",
    "sns.distplot(x)\n",
    "plt.title('After Tranform Latitude PDF')\n",
    "\n",
    "plt.subplot(122)\n",
    "stats.probplot(x,dist='norm',plot=plt)\n",
    "plt.title('After Transform Latitude QQ Plot')\n",
    "plt.plot()"
   ]
  },
  {
   "cell_type": "markdown",
   "id": "8978a68c",
   "metadata": {},
   "source": [
    "### Simple Imputer==>One Hot Encoding==>Function Transformer ==>Scaling==>Machine Learning Algorithm"
   ]
  },
  {
   "cell_type": "code",
   "execution_count": 19,
   "id": "7dd217e2",
   "metadata": {},
   "outputs": [],
   "source": [
    "from sklearn.compose import ColumnTransformer\n",
    "from sklearn.pipeline import make_pipeline"
   ]
  },
  {
   "cell_type": "code",
   "execution_count": 20,
   "id": "6b984ad0",
   "metadata": {},
   "outputs": [
    {
     "data": {
      "text/html": [
       "<div>\n",
       "<style scoped>\n",
       "    .dataframe tbody tr th:only-of-type {\n",
       "        vertical-align: middle;\n",
       "    }\n",
       "\n",
       "    .dataframe tbody tr th {\n",
       "        vertical-align: top;\n",
       "    }\n",
       "\n",
       "    .dataframe thead th {\n",
       "        text-align: right;\n",
       "    }\n",
       "</style>\n",
       "<table border=\"1\" class=\"dataframe\">\n",
       "  <thead>\n",
       "    <tr style=\"text-align: right;\">\n",
       "      <th></th>\n",
       "      <th>longitude</th>\n",
       "      <th>latitude</th>\n",
       "      <th>housing_median_age</th>\n",
       "      <th>total_rooms</th>\n",
       "      <th>total_bedrooms</th>\n",
       "      <th>population</th>\n",
       "      <th>households</th>\n",
       "      <th>median_income</th>\n",
       "      <th>ocean_proximity</th>\n",
       "    </tr>\n",
       "  </thead>\n",
       "  <tbody>\n",
       "    <tr>\n",
       "      <th>14196</th>\n",
       "      <td>-117.03</td>\n",
       "      <td>32.71</td>\n",
       "      <td>33.0</td>\n",
       "      <td>3126.0</td>\n",
       "      <td>627.0</td>\n",
       "      <td>2300.0</td>\n",
       "      <td>623.0</td>\n",
       "      <td>3.2596</td>\n",
       "      <td>NEAR OCEAN</td>\n",
       "    </tr>\n",
       "    <tr>\n",
       "      <th>8267</th>\n",
       "      <td>-118.16</td>\n",
       "      <td>33.77</td>\n",
       "      <td>49.0</td>\n",
       "      <td>3382.0</td>\n",
       "      <td>787.0</td>\n",
       "      <td>1314.0</td>\n",
       "      <td>756.0</td>\n",
       "      <td>3.8125</td>\n",
       "      <td>NEAR OCEAN</td>\n",
       "    </tr>\n",
       "  </tbody>\n",
       "</table>\n",
       "</div>"
      ],
      "text/plain": [
       "       longitude  latitude  housing_median_age  total_rooms  total_bedrooms  \\\n",
       "14196    -117.03     32.71                33.0       3126.0           627.0   \n",
       "8267     -118.16     33.77                49.0       3382.0           787.0   \n",
       "\n",
       "       population  households  median_income ocean_proximity  \n",
       "14196      2300.0       623.0         3.2596      NEAR OCEAN  \n",
       "8267       1314.0       756.0         3.8125      NEAR OCEAN  "
      ]
     },
     "execution_count": 20,
     "metadata": {},
     "output_type": "execute_result"
    }
   ],
   "source": [
    "x_train.head(2)"
   ]
  },
  {
   "cell_type": "code",
   "execution_count": 21,
   "id": "68f7a38d",
   "metadata": {},
   "outputs": [
    {
     "data": {
      "text/plain": [
       "array(['NEAR OCEAN', 'INLAND', '<1H OCEAN', 'NEAR BAY', 'ISLAND'],\n",
       "      dtype=object)"
      ]
     },
     "execution_count": 21,
     "metadata": {},
     "output_type": "execute_result"
    }
   ],
   "source": [
    "x_train.ocean_proximity.unique()"
   ]
  },
  {
   "cell_type": "code",
   "execution_count": 22,
   "id": "488ca780",
   "metadata": {},
   "outputs": [],
   "source": [
    "trf1=ColumnTransformer([\n",
    "    ('imputer',SimpleImputer(),[4])\n",
    "],remainder='passthrough')"
   ]
  },
  {
   "cell_type": "code",
   "execution_count": 23,
   "id": "c9a2b888",
   "metadata": {},
   "outputs": [],
   "source": [
    "trf2=ColumnTransformer([\n",
    "    ('ohe',OneHotEncoder(drop='first',sparse_output=False,handle_unknown='ignore'),[-1])\n",
    "],remainder='passthrough')"
   ]
  },
  {
   "cell_type": "code",
   "execution_count": 24,
   "id": "4c52b6ca",
   "metadata": {},
   "outputs": [],
   "source": [
    "trf=ColumnTransformer([\n",
    "    ('ohe',OneHotEncoder(drop='first',sparse_output=False,handle_unknown='ignore'),[-1]),\n",
    "    ('imputer',SimpleImputer(),[4])\n",
    "],remainder='passthrough')"
   ]
  },
  {
   "cell_type": "code",
   "execution_count": 25,
   "id": "7e524fe6",
   "metadata": {},
   "outputs": [],
   "source": [
    "h=trf.fit_transform(x_train)\n",
    "k=trf.transform(x_test)"
   ]
  },
  {
   "cell_type": "code",
   "execution_count": 26,
   "id": "cdf17ca8",
   "metadata": {},
   "outputs": [],
   "source": [
    "h1=h.tolist()"
   ]
  },
  {
   "cell_type": "code",
   "execution_count": 27,
   "id": "e2211aeb",
   "metadata": {},
   "outputs": [],
   "source": [
    "h2=pd.DataFrame(data=h1,columns=['INLAND', '<1H OCEAN', 'NEAR BAY', 'ISLAND','total_bedrooms','longitude','latitude','housing_median_age','total_rooms','population','households','median_income'])"
   ]
  },
  {
   "cell_type": "code",
   "execution_count": 28,
   "id": "b61028aa",
   "metadata": {},
   "outputs": [
    {
     "data": {
      "text/html": [
       "<div>\n",
       "<style scoped>\n",
       "    .dataframe tbody tr th:only-of-type {\n",
       "        vertical-align: middle;\n",
       "    }\n",
       "\n",
       "    .dataframe tbody tr th {\n",
       "        vertical-align: top;\n",
       "    }\n",
       "\n",
       "    .dataframe thead th {\n",
       "        text-align: right;\n",
       "    }\n",
       "</style>\n",
       "<table border=\"1\" class=\"dataframe\">\n",
       "  <thead>\n",
       "    <tr style=\"text-align: right;\">\n",
       "      <th></th>\n",
       "      <th>INLAND</th>\n",
       "      <th>&lt;1H OCEAN</th>\n",
       "      <th>NEAR BAY</th>\n",
       "      <th>ISLAND</th>\n",
       "      <th>total_bedrooms</th>\n",
       "      <th>longitude</th>\n",
       "      <th>latitude</th>\n",
       "      <th>housing_median_age</th>\n",
       "      <th>total_rooms</th>\n",
       "      <th>population</th>\n",
       "      <th>households</th>\n",
       "      <th>median_income</th>\n",
       "    </tr>\n",
       "  </thead>\n",
       "  <tbody>\n",
       "    <tr>\n",
       "      <th>0</th>\n",
       "      <td>0.0</td>\n",
       "      <td>0.0</td>\n",
       "      <td>0.0</td>\n",
       "      <td>1.0</td>\n",
       "      <td>627.0</td>\n",
       "      <td>-117.03</td>\n",
       "      <td>32.71</td>\n",
       "      <td>33.0</td>\n",
       "      <td>3126.0</td>\n",
       "      <td>2300.0</td>\n",
       "      <td>623.0</td>\n",
       "      <td>3.2596</td>\n",
       "    </tr>\n",
       "    <tr>\n",
       "      <th>1</th>\n",
       "      <td>0.0</td>\n",
       "      <td>0.0</td>\n",
       "      <td>0.0</td>\n",
       "      <td>1.0</td>\n",
       "      <td>787.0</td>\n",
       "      <td>-118.16</td>\n",
       "      <td>33.77</td>\n",
       "      <td>49.0</td>\n",
       "      <td>3382.0</td>\n",
       "      <td>1314.0</td>\n",
       "      <td>756.0</td>\n",
       "      <td>3.8125</td>\n",
       "    </tr>\n",
       "    <tr>\n",
       "      <th>2</th>\n",
       "      <td>0.0</td>\n",
       "      <td>0.0</td>\n",
       "      <td>0.0</td>\n",
       "      <td>1.0</td>\n",
       "      <td>331.0</td>\n",
       "      <td>-120.48</td>\n",
       "      <td>34.66</td>\n",
       "      <td>4.0</td>\n",
       "      <td>1897.0</td>\n",
       "      <td>915.0</td>\n",
       "      <td>336.0</td>\n",
       "      <td>4.1563</td>\n",
       "    </tr>\n",
       "    <tr>\n",
       "      <th>3</th>\n",
       "      <td>0.0</td>\n",
       "      <td>0.0</td>\n",
       "      <td>0.0</td>\n",
       "      <td>1.0</td>\n",
       "      <td>367.0</td>\n",
       "      <td>-117.11</td>\n",
       "      <td>32.69</td>\n",
       "      <td>36.0</td>\n",
       "      <td>1421.0</td>\n",
       "      <td>1418.0</td>\n",
       "      <td>355.0</td>\n",
       "      <td>1.9425</td>\n",
       "    </tr>\n",
       "    <tr>\n",
       "      <th>4</th>\n",
       "      <td>1.0</td>\n",
       "      <td>0.0</td>\n",
       "      <td>0.0</td>\n",
       "      <td>0.0</td>\n",
       "      <td>431.0</td>\n",
       "      <td>-119.80</td>\n",
       "      <td>36.78</td>\n",
       "      <td>43.0</td>\n",
       "      <td>2382.0</td>\n",
       "      <td>874.0</td>\n",
       "      <td>380.0</td>\n",
       "      <td>3.5542</td>\n",
       "    </tr>\n",
       "    <tr>\n",
       "      <th>...</th>\n",
       "      <td>...</td>\n",
       "      <td>...</td>\n",
       "      <td>...</td>\n",
       "      <td>...</td>\n",
       "      <td>...</td>\n",
       "      <td>...</td>\n",
       "      <td>...</td>\n",
       "      <td>...</td>\n",
       "      <td>...</td>\n",
       "      <td>...</td>\n",
       "      <td>...</td>\n",
       "      <td>...</td>\n",
       "    </tr>\n",
       "    <tr>\n",
       "      <th>16507</th>\n",
       "      <td>0.0</td>\n",
       "      <td>0.0</td>\n",
       "      <td>0.0</td>\n",
       "      <td>0.0</td>\n",
       "      <td>201.0</td>\n",
       "      <td>-117.96</td>\n",
       "      <td>33.78</td>\n",
       "      <td>35.0</td>\n",
       "      <td>1330.0</td>\n",
       "      <td>658.0</td>\n",
       "      <td>217.0</td>\n",
       "      <td>6.3700</td>\n",
       "    </tr>\n",
       "    <tr>\n",
       "      <th>16508</th>\n",
       "      <td>1.0</td>\n",
       "      <td>0.0</td>\n",
       "      <td>0.0</td>\n",
       "      <td>0.0</td>\n",
       "      <td>570.0</td>\n",
       "      <td>-117.43</td>\n",
       "      <td>34.02</td>\n",
       "      <td>33.0</td>\n",
       "      <td>3084.0</td>\n",
       "      <td>1753.0</td>\n",
       "      <td>449.0</td>\n",
       "      <td>3.0500</td>\n",
       "    </tr>\n",
       "    <tr>\n",
       "      <th>16509</th>\n",
       "      <td>0.0</td>\n",
       "      <td>0.0</td>\n",
       "      <td>0.0</td>\n",
       "      <td>0.0</td>\n",
       "      <td>569.0</td>\n",
       "      <td>-118.38</td>\n",
       "      <td>34.03</td>\n",
       "      <td>36.0</td>\n",
       "      <td>2101.0</td>\n",
       "      <td>1756.0</td>\n",
       "      <td>527.0</td>\n",
       "      <td>2.9344</td>\n",
       "    </tr>\n",
       "    <tr>\n",
       "      <th>16510</th>\n",
       "      <td>0.0</td>\n",
       "      <td>0.0</td>\n",
       "      <td>0.0</td>\n",
       "      <td>0.0</td>\n",
       "      <td>597.0</td>\n",
       "      <td>-121.96</td>\n",
       "      <td>37.58</td>\n",
       "      <td>15.0</td>\n",
       "      <td>3575.0</td>\n",
       "      <td>1777.0</td>\n",
       "      <td>559.0</td>\n",
       "      <td>5.7192</td>\n",
       "    </tr>\n",
       "    <tr>\n",
       "      <th>16511</th>\n",
       "      <td>0.0</td>\n",
       "      <td>0.0</td>\n",
       "      <td>1.0</td>\n",
       "      <td>0.0</td>\n",
       "      <td>1315.0</td>\n",
       "      <td>-122.42</td>\n",
       "      <td>37.77</td>\n",
       "      <td>52.0</td>\n",
       "      <td>4226.0</td>\n",
       "      <td>2619.0</td>\n",
       "      <td>1242.0</td>\n",
       "      <td>2.5755</td>\n",
       "    </tr>\n",
       "  </tbody>\n",
       "</table>\n",
       "<p>16512 rows × 12 columns</p>\n",
       "</div>"
      ],
      "text/plain": [
       "       INLAND  <1H OCEAN  NEAR BAY  ISLAND  total_bedrooms  longitude  \\\n",
       "0         0.0        0.0       0.0     1.0           627.0    -117.03   \n",
       "1         0.0        0.0       0.0     1.0           787.0    -118.16   \n",
       "2         0.0        0.0       0.0     1.0           331.0    -120.48   \n",
       "3         0.0        0.0       0.0     1.0           367.0    -117.11   \n",
       "4         1.0        0.0       0.0     0.0           431.0    -119.80   \n",
       "...       ...        ...       ...     ...             ...        ...   \n",
       "16507     0.0        0.0       0.0     0.0           201.0    -117.96   \n",
       "16508     1.0        0.0       0.0     0.0           570.0    -117.43   \n",
       "16509     0.0        0.0       0.0     0.0           569.0    -118.38   \n",
       "16510     0.0        0.0       0.0     0.0           597.0    -121.96   \n",
       "16511     0.0        0.0       1.0     0.0          1315.0    -122.42   \n",
       "\n",
       "       latitude  housing_median_age  total_rooms  population  households  \\\n",
       "0         32.71                33.0       3126.0      2300.0       623.0   \n",
       "1         33.77                49.0       3382.0      1314.0       756.0   \n",
       "2         34.66                 4.0       1897.0       915.0       336.0   \n",
       "3         32.69                36.0       1421.0      1418.0       355.0   \n",
       "4         36.78                43.0       2382.0       874.0       380.0   \n",
       "...         ...                 ...          ...         ...         ...   \n",
       "16507     33.78                35.0       1330.0       658.0       217.0   \n",
       "16508     34.02                33.0       3084.0      1753.0       449.0   \n",
       "16509     34.03                36.0       2101.0      1756.0       527.0   \n",
       "16510     37.58                15.0       3575.0      1777.0       559.0   \n",
       "16511     37.77                52.0       4226.0      2619.0      1242.0   \n",
       "\n",
       "       median_income  \n",
       "0             3.2596  \n",
       "1             3.8125  \n",
       "2             4.1563  \n",
       "3             1.9425  \n",
       "4             3.5542  \n",
       "...              ...  \n",
       "16507         6.3700  \n",
       "16508         3.0500  \n",
       "16509         2.9344  \n",
       "16510         5.7192  \n",
       "16511         2.5755  \n",
       "\n",
       "[16512 rows x 12 columns]"
      ]
     },
     "execution_count": 28,
     "metadata": {},
     "output_type": "execute_result"
    }
   ],
   "source": [
    "h2"
   ]
  },
  {
   "cell_type": "code",
   "execution_count": 29,
   "id": "48aa2f14",
   "metadata": {},
   "outputs": [
    {
     "data": {
      "text/plain": [
       "(16512, 12)"
      ]
     },
     "execution_count": 29,
     "metadata": {},
     "output_type": "execute_result"
    }
   ],
   "source": [
    "h2.shape"
   ]
  },
  {
   "cell_type": "code",
   "execution_count": 30,
   "id": "519defbe",
   "metadata": {},
   "outputs": [],
   "source": [
    "trf4=ColumnTransformer([\n",
    "    ('ft',FunctionTransformer(func=np.log1p,validate=True),[4,6,7,8,9,10,11]),\n",
    "    ('ft1',PowerTransformer(),[5]),\n",
    "    \n",
    "],remainder='passthrough')\n"
   ]
  },
  {
   "cell_type": "code",
   "execution_count": 31,
   "id": "48c5032d",
   "metadata": {},
   "outputs": [],
   "source": [
    "trf6=ColumnTransformer([\n",
    "    ('scaler',StandardScaler(),slice(0,12))\n",
    "])"
   ]
  },
  {
   "cell_type": "code",
   "execution_count": 32,
   "id": "d38a77b6",
   "metadata": {},
   "outputs": [],
   "source": [
    "x_train_ft=trf4.fit_transform(h)\n",
    "x_test_ft=trf4.transform(k)"
   ]
  },
  {
   "cell_type": "code",
   "execution_count": 33,
   "id": "139af60e",
   "metadata": {},
   "outputs": [],
   "source": [
    "x_trainft1=trf6.fit_transform(x_train_ft)\n",
    "x_testft1=trf6.transform(x_test_ft)"
   ]
  },
  {
   "cell_type": "code",
   "execution_count": 34,
   "id": "5ac5f167",
   "metadata": {},
   "outputs": [
    {
     "data": {
      "text/html": [
       "<div>\n",
       "<style scoped>\n",
       "    .dataframe tbody tr th:only-of-type {\n",
       "        vertical-align: middle;\n",
       "    }\n",
       "\n",
       "    .dataframe tbody tr th {\n",
       "        vertical-align: top;\n",
       "    }\n",
       "\n",
       "    .dataframe thead th {\n",
       "        text-align: right;\n",
       "    }\n",
       "</style>\n",
       "<table border=\"1\" class=\"dataframe\">\n",
       "  <thead>\n",
       "    <tr style=\"text-align: right;\">\n",
       "      <th></th>\n",
       "      <th>total_bedrooms</th>\n",
       "      <th>longitude</th>\n",
       "      <th>latitude</th>\n",
       "      <th>housing_median_age</th>\n",
       "      <th>total_rooms</th>\n",
       "      <th>population</th>\n",
       "      <th>households</th>\n",
       "      <th>median_income</th>\n",
       "      <th>INLAND</th>\n",
       "      <th>&lt;1H OCEAN</th>\n",
       "      <th>NEAR BAY</th>\n",
       "      <th>ISLAND</th>\n",
       "    </tr>\n",
       "  </thead>\n",
       "  <tbody>\n",
       "    <tr>\n",
       "      <th>0</th>\n",
       "      <td>6.442540</td>\n",
       "      <td>3.517795</td>\n",
       "      <td>3.526361</td>\n",
       "      <td>8.047829</td>\n",
       "      <td>7.741099</td>\n",
       "      <td>6.436150</td>\n",
       "      <td>1.449175</td>\n",
       "      <td>3.191891e-15</td>\n",
       "      <td>0.0</td>\n",
       "      <td>0.0</td>\n",
       "      <td>0.0</td>\n",
       "      <td>1.0</td>\n",
       "    </tr>\n",
       "    <tr>\n",
       "      <th>1</th>\n",
       "      <td>6.669498</td>\n",
       "      <td>3.548755</td>\n",
       "      <td>3.912023</td>\n",
       "      <td>8.126518</td>\n",
       "      <td>7.181592</td>\n",
       "      <td>6.629363</td>\n",
       "      <td>1.571217</td>\n",
       "      <td>1.637579e-15</td>\n",
       "      <td>0.0</td>\n",
       "      <td>0.0</td>\n",
       "      <td>0.0</td>\n",
       "      <td>1.0</td>\n",
       "    </tr>\n",
       "    <tr>\n",
       "      <th>2</th>\n",
       "      <td>5.805135</td>\n",
       "      <td>3.574030</td>\n",
       "      <td>1.609438</td>\n",
       "      <td>7.548556</td>\n",
       "      <td>6.820016</td>\n",
       "      <td>5.820083</td>\n",
       "      <td>1.640219</td>\n",
       "      <td>-1.221245e-15</td>\n",
       "      <td>0.0</td>\n",
       "      <td>0.0</td>\n",
       "      <td>0.0</td>\n",
       "      <td>1.0</td>\n",
       "    </tr>\n",
       "    <tr>\n",
       "      <th>3</th>\n",
       "      <td>5.908083</td>\n",
       "      <td>3.517201</td>\n",
       "      <td>3.610918</td>\n",
       "      <td>7.259820</td>\n",
       "      <td>7.257708</td>\n",
       "      <td>5.874931</td>\n",
       "      <td>1.079260</td>\n",
       "      <td>3.080869e-15</td>\n",
       "      <td>0.0</td>\n",
       "      <td>0.0</td>\n",
       "      <td>0.0</td>\n",
       "      <td>1.0</td>\n",
       "    </tr>\n",
       "    <tr>\n",
       "      <th>4</th>\n",
       "      <td>6.068426</td>\n",
       "      <td>3.631780</td>\n",
       "      <td>3.784190</td>\n",
       "      <td>7.776115</td>\n",
       "      <td>6.774224</td>\n",
       "      <td>5.942799</td>\n",
       "      <td>1.516050</td>\n",
       "      <td>-4.163336e-16</td>\n",
       "      <td>1.0</td>\n",
       "      <td>0.0</td>\n",
       "      <td>0.0</td>\n",
       "      <td>0.0</td>\n",
       "    </tr>\n",
       "    <tr>\n",
       "      <th>...</th>\n",
       "      <td>...</td>\n",
       "      <td>...</td>\n",
       "      <td>...</td>\n",
       "      <td>...</td>\n",
       "      <td>...</td>\n",
       "      <td>...</td>\n",
       "      <td>...</td>\n",
       "      <td>...</td>\n",
       "      <td>...</td>\n",
       "      <td>...</td>\n",
       "      <td>...</td>\n",
       "      <td>...</td>\n",
       "    </tr>\n",
       "    <tr>\n",
       "      <th>16507</th>\n",
       "      <td>5.308268</td>\n",
       "      <td>3.549043</td>\n",
       "      <td>3.583519</td>\n",
       "      <td>7.193686</td>\n",
       "      <td>6.490724</td>\n",
       "      <td>5.384495</td>\n",
       "      <td>1.997418</td>\n",
       "      <td>1.887379e-15</td>\n",
       "      <td>0.0</td>\n",
       "      <td>0.0</td>\n",
       "      <td>0.0</td>\n",
       "      <td>0.0</td>\n",
       "    </tr>\n",
       "    <tr>\n",
       "      <th>16508</th>\n",
       "      <td>6.347389</td>\n",
       "      <td>3.555919</td>\n",
       "      <td>3.526361</td>\n",
       "      <td>8.034307</td>\n",
       "      <td>7.469654</td>\n",
       "      <td>6.109248</td>\n",
       "      <td>1.398717</td>\n",
       "      <td>2.609024e-15</td>\n",
       "      <td>1.0</td>\n",
       "      <td>0.0</td>\n",
       "      <td>0.0</td>\n",
       "      <td>0.0</td>\n",
       "    </tr>\n",
       "    <tr>\n",
       "      <th>16509</th>\n",
       "      <td>6.345636</td>\n",
       "      <td>3.556205</td>\n",
       "      <td>3.610918</td>\n",
       "      <td>7.650645</td>\n",
       "      <td>7.471363</td>\n",
       "      <td>6.269096</td>\n",
       "      <td>1.369758</td>\n",
       "      <td>1.360023e-15</td>\n",
       "      <td>0.0</td>\n",
       "      <td>0.0</td>\n",
       "      <td>0.0</td>\n",
       "      <td>0.0</td>\n",
       "    </tr>\n",
       "    <tr>\n",
       "      <th>16510</th>\n",
       "      <td>6.393591</td>\n",
       "      <td>3.652734</td>\n",
       "      <td>2.772589</td>\n",
       "      <td>8.182000</td>\n",
       "      <td>7.483244</td>\n",
       "      <td>6.327937</td>\n",
       "      <td>1.904969</td>\n",
       "      <td>-2.831069e-15</td>\n",
       "      <td>0.0</td>\n",
       "      <td>0.0</td>\n",
       "      <td>0.0</td>\n",
       "      <td>0.0</td>\n",
       "    </tr>\n",
       "    <tr>\n",
       "      <th>16511</th>\n",
       "      <td>7.182352</td>\n",
       "      <td>3.657647</td>\n",
       "      <td>3.970292</td>\n",
       "      <td>8.349248</td>\n",
       "      <td>7.870930</td>\n",
       "      <td>7.125283</td>\n",
       "      <td>1.274105</td>\n",
       "      <td>-3.330669e-15</td>\n",
       "      <td>0.0</td>\n",
       "      <td>0.0</td>\n",
       "      <td>1.0</td>\n",
       "      <td>0.0</td>\n",
       "    </tr>\n",
       "  </tbody>\n",
       "</table>\n",
       "<p>16512 rows × 12 columns</p>\n",
       "</div>"
      ],
      "text/plain": [
       "       total_bedrooms  longitude  latitude  housing_median_age  total_rooms  \\\n",
       "0            6.442540   3.517795  3.526361            8.047829     7.741099   \n",
       "1            6.669498   3.548755  3.912023            8.126518     7.181592   \n",
       "2            5.805135   3.574030  1.609438            7.548556     6.820016   \n",
       "3            5.908083   3.517201  3.610918            7.259820     7.257708   \n",
       "4            6.068426   3.631780  3.784190            7.776115     6.774224   \n",
       "...               ...        ...       ...                 ...          ...   \n",
       "16507        5.308268   3.549043  3.583519            7.193686     6.490724   \n",
       "16508        6.347389   3.555919  3.526361            8.034307     7.469654   \n",
       "16509        6.345636   3.556205  3.610918            7.650645     7.471363   \n",
       "16510        6.393591   3.652734  2.772589            8.182000     7.483244   \n",
       "16511        7.182352   3.657647  3.970292            8.349248     7.870930   \n",
       "\n",
       "       population  households  median_income  INLAND  <1H OCEAN  NEAR BAY  \\\n",
       "0        6.436150    1.449175   3.191891e-15     0.0        0.0       0.0   \n",
       "1        6.629363    1.571217   1.637579e-15     0.0        0.0       0.0   \n",
       "2        5.820083    1.640219  -1.221245e-15     0.0        0.0       0.0   \n",
       "3        5.874931    1.079260   3.080869e-15     0.0        0.0       0.0   \n",
       "4        5.942799    1.516050  -4.163336e-16     1.0        0.0       0.0   \n",
       "...           ...         ...            ...     ...        ...       ...   \n",
       "16507    5.384495    1.997418   1.887379e-15     0.0        0.0       0.0   \n",
       "16508    6.109248    1.398717   2.609024e-15     1.0        0.0       0.0   \n",
       "16509    6.269096    1.369758   1.360023e-15     0.0        0.0       0.0   \n",
       "16510    6.327937    1.904969  -2.831069e-15     0.0        0.0       0.0   \n",
       "16511    7.125283    1.274105  -3.330669e-15     0.0        0.0       1.0   \n",
       "\n",
       "       ISLAND  \n",
       "0         1.0  \n",
       "1         1.0  \n",
       "2         1.0  \n",
       "3         1.0  \n",
       "4         0.0  \n",
       "...       ...  \n",
       "16507     0.0  \n",
       "16508     0.0  \n",
       "16509     0.0  \n",
       "16510     0.0  \n",
       "16511     0.0  \n",
       "\n",
       "[16512 rows x 12 columns]"
      ]
     },
     "execution_count": 34,
     "metadata": {},
     "output_type": "execute_result"
    }
   ],
   "source": [
    "h3=h.tolist()\n",
    "h4=pd.DataFrame(data=x_train_ft,columns=['total_bedrooms','longitude','latitude','housing_median_age','total_rooms','population','households','median_income','INLAND', '<1H OCEAN', 'NEAR BAY', 'ISLAND'])\n",
    "h4"
   ]
  },
  {
   "cell_type": "code",
   "execution_count": 35,
   "id": "8d6fedbc",
   "metadata": {},
   "outputs": [],
   "source": [
    "from sklearn.linear_model import Lasso,Ridge\n",
    "from sklearn.preprocessing import PolynomialFeatures\n",
    "from sklearn.metrics import mean_absolute_error,r2_score,mean_squared_error"
   ]
  },
  {
   "cell_type": "code",
   "execution_count": 37,
   "id": "67ce35c7",
   "metadata": {},
   "outputs": [
    {
     "name": "stdout",
     "output_type": "stream",
     "text": [
      "mean_absolute_error 53713.29953005501\n",
      "r2 score 0.5961967689316072\n"
     ]
    }
   ],
   "source": [
    "lr=LinearRegression()\n",
    "lr.fit(x_trainft1,y_train)\n",
    "y_pred=lr.predict(x_testft1)\n",
    "print('mean_absolute_error',mean_absolute_error(y_test,y_pred))\n",
    "print('r2 score',r2_score(y_test,y_pred))"
   ]
  },
  {
   "cell_type": "markdown",
   "id": "13fb94fe",
   "metadata": {},
   "source": [
    "## Linear Regression on polynomial data"
   ]
  },
  {
   "cell_type": "code",
   "execution_count": 52,
   "id": "e342388e",
   "metadata": {},
   "outputs": [
    {
     "name": "stdout",
     "output_type": "stream",
     "text": [
      "r2 Score 0.6515515648108596\n"
     ]
    }
   ],
   "source": [
    "poly=PolynomialFeatures(degree=3)\n",
    "x_train_poly=poly.fit_transform(x_trainft1)\n",
    "x_test_poly=poly.transform(x_testft1)\n",
    "lr1=LinearRegression()\n",
    "lr1.fit(x_train_poly,y_train)\n",
    "y_pred1=lr1.predict(x_test_poly)\n",
    "print('r2 Score',r2_score(y_test,y_pred1))"
   ]
  },
  {
   "cell_type": "markdown",
   "id": "aac543fc",
   "metadata": {},
   "source": [
    "## Lasso Regression on Polynomial Data"
   ]
  },
  {
   "cell_type": "code",
   "execution_count": 39,
   "id": "7089d401",
   "metadata": {},
   "outputs": [
    {
     "name": "stdout",
     "output_type": "stream",
     "text": [
      "r2_score 0.7398985301395882\n"
     ]
    },
    {
     "name": "stderr",
     "output_type": "stream",
     "text": [
      "C:\\Users\\amanc\\anaconda3\\Lib\\site-packages\\sklearn\\linear_model\\_coordinate_descent.py:631: ConvergenceWarning: Objective did not converge. You might want to increase the number of iterations, check the scale of the features or consider increasing regularisation. Duality gap: 2.516e+13, tolerance: 2.207e+10\n",
      "  model = cd_fast.enet_coordinate_descent(\n"
     ]
    }
   ],
   "source": [
    "la=Lasso(alpha=2,max_iter=100)\n",
    "la.fit(x_train_poly,y_train)\n",
    "y_pred3=la.predict(x_test_poly)\n",
    "R2=r2_score(y_test,y_pred3)\n",
    "print('r2_score',R2)"
   ]
  },
  {
   "cell_type": "markdown",
   "id": "a2dd468d",
   "metadata": {},
   "source": [
    "## Ridge Regression on Polynomial Data"
   ]
  },
  {
   "cell_type": "code",
   "execution_count": 45,
   "id": "ff8b8c00",
   "metadata": {},
   "outputs": [
    {
     "name": "stdout",
     "output_type": "stream",
     "text": [
      "R2 Score 0.7237909410455063\n"
     ]
    }
   ],
   "source": [
    "ra=Ridge(alpha=2,solver='sparse_cg')\n",
    "ra.fit(x_train_poly,y_train)\n",
    "y_pred4=ra.predict(x_test_poly)\n",
    "r_2=r2_score(y_test,y_pred4)\n",
    "print('R2 Score',r_2)"
   ]
  },
  {
   "cell_type": "code",
   "execution_count": 41,
   "id": "91af8315",
   "metadata": {},
   "outputs": [],
   "source": [
    "n=x_test_poly.shape[0]\n",
    "p=x_test_poly.shape[1]\n",
    "Adj_r2 = 1-(1-R2)*(n-1)/(n-p-1)"
   ]
  },
  {
   "cell_type": "code",
   "execution_count": 42,
   "id": "dd157a1a",
   "metadata": {},
   "outputs": [
    {
     "name": "stdout",
     "output_type": "stream",
     "text": [
      "Adjusted R2 of Lasso 0.7076691813415251\n"
     ]
    }
   ],
   "source": [
    "print('Adjusted R2 of Lasso',Adj_r2)"
   ]
  },
  {
   "cell_type": "code",
   "execution_count": 43,
   "id": "9cb25332",
   "metadata": {},
   "outputs": [
    {
     "name": "stdout",
     "output_type": "stream",
     "text": [
      "Adjusted R2 of Ridge 0.6895656900040318\n"
     ]
    }
   ],
   "source": [
    "Adj_r2_score = 1-(1-r_2)*(n-1)/(n-p-1)\n",
    "print('Adjusted R2 of Ridge',Adj_r2_score)"
   ]
  },
  {
   "cell_type": "code",
   "execution_count": 48,
   "id": "161bca90",
   "metadata": {},
   "outputs": [],
   "source": [
    "from sklearn.ensemble import VotingRegressor,BaggingRegressor,StackingRegressor\n",
    "from sklearn.tree import DecisionTreeRegressor\n",
    "from xgboost import XGBRegressor"
   ]
  },
  {
   "cell_type": "code",
   "execution_count": 47,
   "id": "4a889b59",
   "metadata": {},
   "outputs": [
    {
     "name": "stdout",
     "output_type": "stream",
     "text": [
      "R2 Score 0.61849223448745\n"
     ]
    }
   ],
   "source": [
    "dt=DecisionTreeRegressor()\n",
    "#x_train_poly,y_train\n",
    "#x_test_poly\n",
    "dt.fit(x_train_poly,y_train)\n",
    "y_pred_dt=dt.predict(x_test_poly)\n",
    "r_2=r2_score(y_test,y_pred_dt)\n",
    "print('R2 Score',r_2)"
   ]
  },
  {
   "cell_type": "code",
   "execution_count": 50,
   "id": "d8c0d8de",
   "metadata": {},
   "outputs": [
    {
     "name": "stdout",
     "output_type": "stream",
     "text": [
      "R2 Score 0.61849223448745\n"
     ]
    }
   ],
   "source": [
    "xg=XGBRegressor()\n",
    "xg.fit(x_train_poly,y_train)\n",
    "y_pred_xg=dt.predict(x_test_poly)\n",
    "print('R2 Score',r2_score(y_test,y_pred_xg))\n"
   ]
  },
  {
   "cell_type": "code",
   "execution_count": 53,
   "id": "36828700",
   "metadata": {},
   "outputs": [],
   "source": [
    "estimator=[('lr',lr1),('lasso',la),('ridge',ra),('xg',xg),('dt',dt)]"
   ]
  },
  {
   "cell_type": "code",
   "execution_count": 55,
   "id": "6986c44c",
   "metadata": {},
   "outputs": [
    {
     "name": "stdout",
     "output_type": "stream",
     "text": [
      "R2 Score 0.791699882571552\n"
     ]
    }
   ],
   "source": [
    "vc=VotingRegressor(estimators=estimator,n_jobs=-1)\n",
    "vc.fit(x_train_poly,y_train)\n",
    "y_pred_vc=vc.predict(x_test_poly)\n",
    "print('R2 Score',r2_score(y_test,y_pred_vc))\n"
   ]
  },
  {
   "cell_type": "code",
   "execution_count": 58,
   "id": "3834584d",
   "metadata": {},
   "outputs": [
    {
     "name": "stdout",
     "output_type": "stream",
     "text": [
      "R2 Score 0.7990356818229949\n"
     ]
    }
   ],
   "source": [
    "br=BaggingRegressor(estimator=DecisionTreeRegressor(),n_estimators=100,n_jobs=-1)\n",
    "br.fit(x_train_poly,y_train)\n",
    "y_pred_br=br.predict(x_test_poly)\n",
    "print('R2 Score',r2_score(y_test,y_pred_br))\n"
   ]
  },
  {
   "cell_type": "code",
   "execution_count": 57,
   "id": "6ac29a7c",
   "metadata": {},
   "outputs": [
    {
     "name": "stdout",
     "output_type": "stream",
     "text": [
      "R2 Score 0.8013615890137238\n"
     ]
    }
   ],
   "source": [
    "sr=StackingRegressor(estimators=estimator,final_estimator=XGBRegressor(),cv=10,n_jobs=-1)\n",
    "sr.fit(x_train_poly,y_train)\n",
    "y_pred_sr=sr.predict(x_test_poly)\n",
    "print('R2 Score',r2_score(y_test,y_pred_sr))\n"
   ]
  },
  {
   "cell_type": "code",
   "execution_count": null,
   "id": "3b7dc7e4",
   "metadata": {},
   "outputs": [],
   "source": []
  }
 ],
 "metadata": {
  "kernelspec": {
   "display_name": "Python 3 (ipykernel)",
   "language": "python",
   "name": "python3"
  },
  "language_info": {
   "codemirror_mode": {
    "name": "ipython",
    "version": 3
   },
   "file_extension": ".py",
   "mimetype": "text/x-python",
   "name": "python",
   "nbconvert_exporter": "python",
   "pygments_lexer": "ipython3",
   "version": "3.11.5"
  }
 },
 "nbformat": 4,
 "nbformat_minor": 5
}
